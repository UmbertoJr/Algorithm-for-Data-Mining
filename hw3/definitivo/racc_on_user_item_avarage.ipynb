{
 "cells": [
  {
   "cell_type": "code",
   "execution_count": 1,
   "metadata": {
    "collapsed": true
   },
   "outputs": [],
   "source": [
    "import pandas as pd\n",
    "import numpy as np\n",
    "from scipy import sparse"
   ]
  },
  {
   "cell_type": "code",
   "execution_count": 2,
   "metadata": {
    "collapsed": true
   },
   "outputs": [],
   "source": [
    "ratings=pd.read_csv('BX-Book-Ratings.csv',sep=';', encoding='latin-1')\n",
    "books = pd.read_csv('BX-Books_mod.csv',sep=';', encoding='latin-1')\n",
    "users = pd.read_csv('BX-Users.csv', sep=';', encoding='latin-1')"
   ]
  },
  {
   "cell_type": "code",
   "execution_count": 3,
   "metadata": {
    "collapsed": false
   },
   "outputs": [],
   "source": [
    "n_user,n_item=(map(len, [ratings['User-ID'].unique(),ratings['ISBN'].unique()]))"
   ]
  },
  {
   "cell_type": "code",
   "execution_count": 4,
   "metadata": {
    "collapsed": true
   },
   "outputs": [],
   "source": [
    "from sklearn import preprocessing\n",
    "le = preprocessing.LabelEncoder()\n",
    "ratings['book_ID']=le.fit_transform(ratings.ISBN)\n",
    "ratings['user_ID']=le.fit_transform(ratings['User-ID'])"
   ]
  },
  {
   "cell_type": "code",
   "execution_count": 5,
   "metadata": {
    "collapsed": false
   },
   "outputs": [
    {
     "data": {
      "text/plain": [
       "Index(['User-ID', 'ISBN', 'Book-Rating', 'book_ID', 'user_ID'], dtype='object')"
      ]
     },
     "execution_count": 5,
     "metadata": {},
     "output_type": "execute_result"
    }
   ],
   "source": [
    "ratings.columns"
   ]
  },
  {
   "cell_type": "code",
   "execution_count": 6,
   "metadata": {
    "collapsed": false
   },
   "outputs": [],
   "source": [
    "piv=sparse.lil_matrix((n_user,n_item))"
   ]
  },
  {
   "cell_type": "code",
   "execution_count": 7,
   "metadata": {
    "collapsed": false
   },
   "outputs": [],
   "source": [
    "for row in ratings.itertuples():\n",
    "    piv[row[5],row[4]]=row[3]+ 1e-9"
   ]
  },
  {
   "cell_type": "code",
   "execution_count": 14,
   "metadata": {
    "collapsed": false
   },
   "outputs": [
    {
     "data": {
      "text/html": [
       "<div>\n",
       "<table border=\"1\" class=\"dataframe\">\n",
       "  <thead>\n",
       "    <tr style=\"text-align: right;\">\n",
       "      <th></th>\n",
       "      <th>User-ID</th>\n",
       "      <th>ISBN</th>\n",
       "      <th>Book-Rating</th>\n",
       "      <th>book_ID</th>\n",
       "      <th>user_ID</th>\n",
       "    </tr>\n",
       "  </thead>\n",
       "  <tbody>\n",
       "    <tr>\n",
       "      <th>587065</th>\n",
       "      <td>141794</td>\n",
       "      <td>0141301066</td>\n",
       "      <td>0</td>\n",
       "      <td>27718</td>\n",
       "      <td>53648</td>\n",
       "    </tr>\n",
       "    <tr>\n",
       "      <th>587066</th>\n",
       "      <td>141794</td>\n",
       "      <td>0373834462</td>\n",
       "      <td>0</td>\n",
       "      <td>71413</td>\n",
       "      <td>53648</td>\n",
       "    </tr>\n",
       "    <tr>\n",
       "      <th>587067</th>\n",
       "      <td>141794</td>\n",
       "      <td>0375725849</td>\n",
       "      <td>0</td>\n",
       "      <td>74204</td>\n",
       "      <td>53648</td>\n",
       "    </tr>\n",
       "    <tr>\n",
       "      <th>587068</th>\n",
       "      <td>141794</td>\n",
       "      <td>0385721250</td>\n",
       "      <td>0</td>\n",
       "      <td>83612</td>\n",
       "      <td>53648</td>\n",
       "    </tr>\n",
       "    <tr>\n",
       "      <th>587069</th>\n",
       "      <td>141794</td>\n",
       "      <td>0449213447</td>\n",
       "      <td>0</td>\n",
       "      <td>111304</td>\n",
       "      <td>53648</td>\n",
       "    </tr>\n",
       "    <tr>\n",
       "      <th>587070</th>\n",
       "      <td>141794</td>\n",
       "      <td>0486227944</td>\n",
       "      <td>8</td>\n",
       "      <td>121270</td>\n",
       "      <td>53648</td>\n",
       "    </tr>\n",
       "    <tr>\n",
       "      <th>587071</th>\n",
       "      <td>141794</td>\n",
       "      <td>0552527521</td>\n",
       "      <td>0</td>\n",
       "      <td>130209</td>\n",
       "      <td>53648</td>\n",
       "    </tr>\n",
       "    <tr>\n",
       "      <th>587072</th>\n",
       "      <td>141794</td>\n",
       "      <td>0553577905</td>\n",
       "      <td>0</td>\n",
       "      <td>139222</td>\n",
       "      <td>53648</td>\n",
       "    </tr>\n",
       "    <tr>\n",
       "      <th>587073</th>\n",
       "      <td>141794</td>\n",
       "      <td>0749316845</td>\n",
       "      <td>0</td>\n",
       "      <td>185744</td>\n",
       "      <td>53648</td>\n",
       "    </tr>\n",
       "    <tr>\n",
       "      <th>587074</th>\n",
       "      <td>141794</td>\n",
       "      <td>0812555198</td>\n",
       "      <td>0</td>\n",
       "      <td>209397</td>\n",
       "      <td>53648</td>\n",
       "    </tr>\n",
       "    <tr>\n",
       "      <th>587075</th>\n",
       "      <td>141794</td>\n",
       "      <td>0854566678</td>\n",
       "      <td>8</td>\n",
       "      <td>222134</td>\n",
       "      <td>53648</td>\n",
       "    </tr>\n",
       "    <tr>\n",
       "      <th>587076</th>\n",
       "      <td>141794</td>\n",
       "      <td>0864427573</td>\n",
       "      <td>0</td>\n",
       "      <td>223561</td>\n",
       "      <td>53648</td>\n",
       "    </tr>\n",
       "    <tr>\n",
       "      <th>587077</th>\n",
       "      <td>141794</td>\n",
       "      <td>0968876803</td>\n",
       "      <td>0</td>\n",
       "      <td>246766</td>\n",
       "      <td>53648</td>\n",
       "    </tr>\n",
       "    <tr>\n",
       "      <th>587078</th>\n",
       "      <td>141794</td>\n",
       "      <td>1561703982</td>\n",
       "      <td>0</td>\n",
       "      <td>255741</td>\n",
       "      <td>53648</td>\n",
       "    </tr>\n",
       "    <tr>\n",
       "      <th>587079</th>\n",
       "      <td>141794</td>\n",
       "      <td>8022264188142</td>\n",
       "      <td>0</td>\n",
       "      <td>312225</td>\n",
       "      <td>53648</td>\n",
       "    </tr>\n",
       "    <tr>\n",
       "      <th>587080</th>\n",
       "      <td>141794</td>\n",
       "      <td>8804336498</td>\n",
       "      <td>0</td>\n",
       "      <td>326592</td>\n",
       "      <td>53648</td>\n",
       "    </tr>\n",
       "    <tr>\n",
       "      <th>587081</th>\n",
       "      <td>141794</td>\n",
       "      <td>8804369101</td>\n",
       "      <td>0</td>\n",
       "      <td>326691</td>\n",
       "      <td>53648</td>\n",
       "    </tr>\n",
       "    <tr>\n",
       "      <th>587082</th>\n",
       "      <td>141794</td>\n",
       "      <td>8804442166</td>\n",
       "      <td>8</td>\n",
       "      <td>327084</td>\n",
       "      <td>53648</td>\n",
       "    </tr>\n",
       "    <tr>\n",
       "      <th>587083</th>\n",
       "      <td>141794</td>\n",
       "      <td>8804467630</td>\n",
       "      <td>0</td>\n",
       "      <td>327220</td>\n",
       "      <td>53648</td>\n",
       "    </tr>\n",
       "    <tr>\n",
       "      <th>587084</th>\n",
       "      <td>141794</td>\n",
       "      <td>8804487712</td>\n",
       "      <td>0</td>\n",
       "      <td>327390</td>\n",
       "      <td>53648</td>\n",
       "    </tr>\n",
       "    <tr>\n",
       "      <th>587085</th>\n",
       "      <td>141794</td>\n",
       "      <td>8804512814</td>\n",
       "      <td>0</td>\n",
       "      <td>327614</td>\n",
       "      <td>53648</td>\n",
       "    </tr>\n",
       "    <tr>\n",
       "      <th>587086</th>\n",
       "      <td>141794</td>\n",
       "      <td>8806143042</td>\n",
       "      <td>0</td>\n",
       "      <td>327869</td>\n",
       "      <td>53648</td>\n",
       "    </tr>\n",
       "    <tr>\n",
       "      <th>587087</th>\n",
       "      <td>141794</td>\n",
       "      <td>8806144383</td>\n",
       "      <td>0</td>\n",
       "      <td>327883</td>\n",
       "      <td>53648</td>\n",
       "    </tr>\n",
       "    <tr>\n",
       "      <th>587088</th>\n",
       "      <td>141794</td>\n",
       "      <td>8807016354</td>\n",
       "      <td>9</td>\n",
       "      <td>328170</td>\n",
       "      <td>53648</td>\n",
       "    </tr>\n",
       "    <tr>\n",
       "      <th>587089</th>\n",
       "      <td>141794</td>\n",
       "      <td>8807170558</td>\n",
       "      <td>0</td>\n",
       "      <td>328189</td>\n",
       "      <td>53648</td>\n",
       "    </tr>\n",
       "    <tr>\n",
       "      <th>587090</th>\n",
       "      <td>141794</td>\n",
       "      <td>8807490064</td>\n",
       "      <td>0</td>\n",
       "      <td>328199</td>\n",
       "      <td>53648</td>\n",
       "    </tr>\n",
       "    <tr>\n",
       "      <th>587091</th>\n",
       "      <td>141794</td>\n",
       "      <td>8807814099</td>\n",
       "      <td>6</td>\n",
       "      <td>328386</td>\n",
       "      <td>53648</td>\n",
       "    </tr>\n",
       "    <tr>\n",
       "      <th>587092</th>\n",
       "      <td>141794</td>\n",
       "      <td>8807816318</td>\n",
       "      <td>0</td>\n",
       "      <td>328452</td>\n",
       "      <td>53648</td>\n",
       "    </tr>\n",
       "    <tr>\n",
       "      <th>587093</th>\n",
       "      <td>141794</td>\n",
       "      <td>8807817039</td>\n",
       "      <td>9</td>\n",
       "      <td>328474</td>\n",
       "      <td>53648</td>\n",
       "    </tr>\n",
       "    <tr>\n",
       "      <th>587094</th>\n",
       "      <td>141794</td>\n",
       "      <td>8811620279</td>\n",
       "      <td>0</td>\n",
       "      <td>328627</td>\n",
       "      <td>53648</td>\n",
       "    </tr>\n",
       "    <tr>\n",
       "      <th>...</th>\n",
       "      <td>...</td>\n",
       "      <td>...</td>\n",
       "      <td>...</td>\n",
       "      <td>...</td>\n",
       "      <td>...</td>\n",
       "    </tr>\n",
       "    <tr>\n",
       "      <th>587106</th>\n",
       "      <td>141794</td>\n",
       "      <td>883440461O</td>\n",
       "      <td>0</td>\n",
       "      <td>329405</td>\n",
       "      <td>53648</td>\n",
       "    </tr>\n",
       "    <tr>\n",
       "      <th>587107</th>\n",
       "      <td>141794</td>\n",
       "      <td>8834705440</td>\n",
       "      <td>0</td>\n",
       "      <td>329416</td>\n",
       "      <td>53648</td>\n",
       "    </tr>\n",
       "    <tr>\n",
       "      <th>587108</th>\n",
       "      <td>141794</td>\n",
       "      <td>8835940168</td>\n",
       "      <td>0</td>\n",
       "      <td>329463</td>\n",
       "      <td>53648</td>\n",
       "    </tr>\n",
       "    <tr>\n",
       "      <th>587109</th>\n",
       "      <td>141794</td>\n",
       "      <td>8838915229</td>\n",
       "      <td>0</td>\n",
       "      <td>329626</td>\n",
       "      <td>53648</td>\n",
       "    </tr>\n",
       "    <tr>\n",
       "      <th>587110</th>\n",
       "      <td>141794</td>\n",
       "      <td>8842581135</td>\n",
       "      <td>0</td>\n",
       "      <td>329720</td>\n",
       "      <td>53648</td>\n",
       "    </tr>\n",
       "    <tr>\n",
       "      <th>587111</th>\n",
       "      <td>141794</td>\n",
       "      <td>8845236331</td>\n",
       "      <td>5</td>\n",
       "      <td>329974</td>\n",
       "      <td>53648</td>\n",
       "    </tr>\n",
       "    <tr>\n",
       "      <th>587112</th>\n",
       "      <td>141794</td>\n",
       "      <td>8845237192</td>\n",
       "      <td>0</td>\n",
       "      <td>329976</td>\n",
       "      <td>53648</td>\n",
       "    </tr>\n",
       "    <tr>\n",
       "      <th>587113</th>\n",
       "      <td>141794</td>\n",
       "      <td>8845290077</td>\n",
       "      <td>0</td>\n",
       "      <td>330065</td>\n",
       "      <td>53648</td>\n",
       "    </tr>\n",
       "    <tr>\n",
       "      <th>587114</th>\n",
       "      <td>141794</td>\n",
       "      <td>8845408574</td>\n",
       "      <td>0</td>\n",
       "      <td>330085</td>\n",
       "      <td>53648</td>\n",
       "    </tr>\n",
       "    <tr>\n",
       "      <th>587115</th>\n",
       "      <td>141794</td>\n",
       "      <td>8845909840</td>\n",
       "      <td>0</td>\n",
       "      <td>330187</td>\n",
       "      <td>53648</td>\n",
       "    </tr>\n",
       "    <tr>\n",
       "      <th>587116</th>\n",
       "      <td>141794</td>\n",
       "      <td>8845913198</td>\n",
       "      <td>0</td>\n",
       "      <td>330216</td>\n",
       "      <td>53648</td>\n",
       "    </tr>\n",
       "    <tr>\n",
       "      <th>587117</th>\n",
       "      <td>141794</td>\n",
       "      <td>8845916839</td>\n",
       "      <td>8</td>\n",
       "      <td>330263</td>\n",
       "      <td>53648</td>\n",
       "    </tr>\n",
       "    <tr>\n",
       "      <th>587118</th>\n",
       "      <td>141794</td>\n",
       "      <td>8845917576</td>\n",
       "      <td>0</td>\n",
       "      <td>330268</td>\n",
       "      <td>53648</td>\n",
       "    </tr>\n",
       "    <tr>\n",
       "      <th>587119</th>\n",
       "      <td>141794</td>\n",
       "      <td>8846201450</td>\n",
       "      <td>10</td>\n",
       "      <td>330339</td>\n",
       "      <td>53648</td>\n",
       "    </tr>\n",
       "    <tr>\n",
       "      <th>587120</th>\n",
       "      <td>141794</td>\n",
       "      <td>8846202988</td>\n",
       "      <td>0</td>\n",
       "      <td>330417</td>\n",
       "      <td>53648</td>\n",
       "    </tr>\n",
       "    <tr>\n",
       "      <th>587121</th>\n",
       "      <td>141794</td>\n",
       "      <td>885152033X</td>\n",
       "      <td>10</td>\n",
       "      <td>330511</td>\n",
       "      <td>53648</td>\n",
       "    </tr>\n",
       "    <tr>\n",
       "      <th>587122</th>\n",
       "      <td>141794</td>\n",
       "      <td>8871226135</td>\n",
       "      <td>0</td>\n",
       "      <td>330652</td>\n",
       "      <td>53648</td>\n",
       "    </tr>\n",
       "    <tr>\n",
       "      <th>587123</th>\n",
       "      <td>141794</td>\n",
       "      <td>887641272</td>\n",
       "      <td>8</td>\n",
       "      <td>330896</td>\n",
       "      <td>53648</td>\n",
       "    </tr>\n",
       "    <tr>\n",
       "      <th>587124</th>\n",
       "      <td>141794</td>\n",
       "      <td>8877822457</td>\n",
       "      <td>0</td>\n",
       "      <td>331071</td>\n",
       "      <td>53648</td>\n",
       "    </tr>\n",
       "    <tr>\n",
       "      <th>587125</th>\n",
       "      <td>141794</td>\n",
       "      <td>8878188824</td>\n",
       "      <td>0</td>\n",
       "      <td>331184</td>\n",
       "      <td>53648</td>\n",
       "    </tr>\n",
       "    <tr>\n",
       "      <th>587126</th>\n",
       "      <td>141794</td>\n",
       "      <td>8878190195</td>\n",
       "      <td>10</td>\n",
       "      <td>331192</td>\n",
       "      <td>53648</td>\n",
       "    </tr>\n",
       "    <tr>\n",
       "      <th>587127</th>\n",
       "      <td>141794</td>\n",
       "      <td>8878247421</td>\n",
       "      <td>5</td>\n",
       "      <td>331286</td>\n",
       "      <td>53648</td>\n",
       "    </tr>\n",
       "    <tr>\n",
       "      <th>587128</th>\n",
       "      <td>141794</td>\n",
       "      <td>887983116X</td>\n",
       "      <td>0</td>\n",
       "      <td>331429</td>\n",
       "      <td>53648</td>\n",
       "    </tr>\n",
       "    <tr>\n",
       "      <th>587129</th>\n",
       "      <td>141794</td>\n",
       "      <td>8879839888</td>\n",
       "      <td>0</td>\n",
       "      <td>331617</td>\n",
       "      <td>53648</td>\n",
       "    </tr>\n",
       "    <tr>\n",
       "      <th>587130</th>\n",
       "      <td>141794</td>\n",
       "      <td>8882740501</td>\n",
       "      <td>5</td>\n",
       "      <td>332008</td>\n",
       "      <td>53648</td>\n",
       "    </tr>\n",
       "    <tr>\n",
       "      <th>587131</th>\n",
       "      <td>141794</td>\n",
       "      <td>8882897923</td>\n",
       "      <td>0</td>\n",
       "      <td>332090</td>\n",
       "      <td>53648</td>\n",
       "    </tr>\n",
       "    <tr>\n",
       "      <th>587132</th>\n",
       "      <td>141794</td>\n",
       "      <td>8884511143</td>\n",
       "      <td>7</td>\n",
       "      <td>332139</td>\n",
       "      <td>53648</td>\n",
       "    </tr>\n",
       "    <tr>\n",
       "      <th>587133</th>\n",
       "      <td>141794</td>\n",
       "      <td>888663241X</td>\n",
       "      <td>0</td>\n",
       "      <td>332271</td>\n",
       "      <td>53648</td>\n",
       "    </tr>\n",
       "    <tr>\n",
       "      <th>587134</th>\n",
       "      <td>141794</td>\n",
       "      <td>8887913056</td>\n",
       "      <td>0</td>\n",
       "      <td>332400</td>\n",
       "      <td>53648</td>\n",
       "    </tr>\n",
       "    <tr>\n",
       "      <th>587135</th>\n",
       "      <td>141794</td>\n",
       "      <td>8887947104</td>\n",
       "      <td>0</td>\n",
       "      <td>332411</td>\n",
       "      <td>53648</td>\n",
       "    </tr>\n",
       "  </tbody>\n",
       "</table>\n",
       "<p>71 rows × 5 columns</p>\n",
       "</div>"
      ],
      "text/plain": [
       "        User-ID           ISBN  Book-Rating  book_ID  user_ID\n",
       "587065   141794     0141301066            0    27718    53648\n",
       "587066   141794     0373834462            0    71413    53648\n",
       "587067   141794     0375725849            0    74204    53648\n",
       "587068   141794     0385721250            0    83612    53648\n",
       "587069   141794     0449213447            0   111304    53648\n",
       "587070   141794     0486227944            8   121270    53648\n",
       "587071   141794     0552527521            0   130209    53648\n",
       "587072   141794     0553577905            0   139222    53648\n",
       "587073   141794     0749316845            0   185744    53648\n",
       "587074   141794     0812555198            0   209397    53648\n",
       "587075   141794     0854566678            8   222134    53648\n",
       "587076   141794     0864427573            0   223561    53648\n",
       "587077   141794     0968876803            0   246766    53648\n",
       "587078   141794     1561703982            0   255741    53648\n",
       "587079   141794  8022264188142            0   312225    53648\n",
       "587080   141794     8804336498            0   326592    53648\n",
       "587081   141794     8804369101            0   326691    53648\n",
       "587082   141794     8804442166            8   327084    53648\n",
       "587083   141794     8804467630            0   327220    53648\n",
       "587084   141794     8804487712            0   327390    53648\n",
       "587085   141794     8804512814            0   327614    53648\n",
       "587086   141794     8806143042            0   327869    53648\n",
       "587087   141794     8806144383            0   327883    53648\n",
       "587088   141794     8807016354            9   328170    53648\n",
       "587089   141794     8807170558            0   328189    53648\n",
       "587090   141794     8807490064            0   328199    53648\n",
       "587091   141794     8807814099            6   328386    53648\n",
       "587092   141794     8807816318            0   328452    53648\n",
       "587093   141794     8807817039            9   328474    53648\n",
       "587094   141794     8811620279            0   328627    53648\n",
       "...         ...            ...          ...      ...      ...\n",
       "587106   141794     883440461O            0   329405    53648\n",
       "587107   141794     8834705440            0   329416    53648\n",
       "587108   141794     8835940168            0   329463    53648\n",
       "587109   141794     8838915229            0   329626    53648\n",
       "587110   141794     8842581135            0   329720    53648\n",
       "587111   141794     8845236331            5   329974    53648\n",
       "587112   141794     8845237192            0   329976    53648\n",
       "587113   141794     8845290077            0   330065    53648\n",
       "587114   141794     8845408574            0   330085    53648\n",
       "587115   141794     8845909840            0   330187    53648\n",
       "587116   141794     8845913198            0   330216    53648\n",
       "587117   141794     8845916839            8   330263    53648\n",
       "587118   141794     8845917576            0   330268    53648\n",
       "587119   141794     8846201450           10   330339    53648\n",
       "587120   141794     8846202988            0   330417    53648\n",
       "587121   141794     885152033X           10   330511    53648\n",
       "587122   141794     8871226135            0   330652    53648\n",
       "587123   141794      887641272            8   330896    53648\n",
       "587124   141794     8877822457            0   331071    53648\n",
       "587125   141794     8878188824            0   331184    53648\n",
       "587126   141794     8878190195           10   331192    53648\n",
       "587127   141794     8878247421            5   331286    53648\n",
       "587128   141794     887983116X            0   331429    53648\n",
       "587129   141794     8879839888            0   331617    53648\n",
       "587130   141794     8882740501            5   332008    53648\n",
       "587131   141794     8882897923            0   332090    53648\n",
       "587132   141794     8884511143            7   332139    53648\n",
       "587133   141794     888663241X            0   332271    53648\n",
       "587134   141794     8887913056            0   332400    53648\n",
       "587135   141794     8887947104            0   332411    53648\n",
       "\n",
       "[71 rows x 5 columns]"
      ]
     },
     "execution_count": 14,
     "metadata": {},
     "output_type": "execute_result"
    }
   ],
   "source": [
    "ratings[ratings['user_ID']==nm]"
   ]
  },
  {
   "cell_type": "code",
   "execution_count": 8,
   "metadata": {
    "collapsed": false
   },
   "outputs": [],
   "source": [
    "def take_most_commun(piv,user,number):\n",
    "    dic={}\n",
    "    h = piv[user,:].nonzero()[1]\n",
    "    for i in range(piv.shape[0]):\n",
    "        z=0\n",
    "        dist=0\n",
    "        if i != user:\n",
    "            o=piv[i,:].nonzero()[1]\n",
    "            for col in np.intersect1d(h,o):\n",
    "                z+=1\n",
    "                dist+= abs(piv[user,col]-piv[i,col])\n",
    "            if z!=0:\n",
    "                dic[i]=[z,dist/z ,z**2/(dist+1)]\n",
    "    if len(dic)==0:\n",
    "        return None\n",
    "    data=pd.DataFrame.from_dict(dic, orient='index')\n",
    "    data.columns=['comune_columns','distance','my_index']\n",
    "    if data.shape[0]>number:\n",
    "        return data.sort_values(['comune_columns','distance'],axis=0, ascending=[0,1])[:number]\n",
    "    else:\n",
    "        return data.sort_values(['comune_columns','distance'],axis=0, ascending=[0,1])\n",
    "    '''if len(dic)>number:\n",
    "        return [(i,dic[i]) for i in sorted(dic, key=dic.__getitem__, reverse=1)[:number]]\n",
    "    else:\n",
    "        return [(i,dic[i]) for i in sorted(dic, key=dic.__getitem__, reverse=1)]'''"
   ]
  },
  {
   "cell_type": "code",
   "execution_count": 9,
   "metadata": {
    "collapsed": true
   },
   "outputs": [],
   "source": [
    "nm=53648"
   ]
  },
  {
   "cell_type": "code",
   "execution_count": 10,
   "metadata": {
    "collapsed": false
   },
   "outputs": [],
   "source": [
    "m=take_most_commun(piv,100,100)"
   ]
  },
  {
   "cell_type": "code",
   "execution_count": 11,
   "metadata": {
    "collapsed": false
   },
   "outputs": [
    {
     "data": {
      "text/html": [
       "<div>\n",
       "<table border=\"1\" class=\"dataframe\">\n",
       "  <thead>\n",
       "    <tr style=\"text-align: right;\">\n",
       "      <th></th>\n",
       "      <th>comune_columns</th>\n",
       "      <th>distance</th>\n",
       "      <th>my_index</th>\n",
       "    </tr>\n",
       "  </thead>\n",
       "  <tbody>\n",
       "    <tr>\n",
       "      <th>32221</th>\n",
       "      <td>1</td>\n",
       "      <td>6.0</td>\n",
       "      <td>0.142857</td>\n",
       "    </tr>\n",
       "    <tr>\n",
       "      <th>87422</th>\n",
       "      <td>1</td>\n",
       "      <td>6.0</td>\n",
       "      <td>0.142857</td>\n",
       "    </tr>\n",
       "    <tr>\n",
       "      <th>35813</th>\n",
       "      <td>1</td>\n",
       "      <td>6.0</td>\n",
       "      <td>0.142857</td>\n",
       "    </tr>\n",
       "  </tbody>\n",
       "</table>\n",
       "</div>"
      ],
      "text/plain": [
       "       comune_columns  distance  my_index\n",
       "32221               1       6.0  0.142857\n",
       "87422               1       6.0  0.142857\n",
       "35813               1       6.0  0.142857"
      ]
     },
     "execution_count": 11,
     "metadata": {},
     "output_type": "execute_result"
    }
   ],
   "source": [
    "m"
   ]
  },
  {
   "cell_type": "code",
   "execution_count": 20,
   "metadata": {
    "collapsed": false,
    "scrolled": true
   },
   "outputs": [
    {
     "data": {
      "text/plain": [
       "6.0"
      ]
     },
     "execution_count": 20,
     "metadata": {},
     "output_type": "execute_result"
    }
   ],
   "source": [
    "pred_rating_mean_user_based(100,100,piv,100)"
   ]
  },
  {
   "cell_type": "code",
   "execution_count": 12,
   "metadata": {
    "collapsed": false
   },
   "outputs": [],
   "source": [
    "def pred_rating_mean_user_based(user,item,piv,neighbors):\n",
    "    closer=take_most_commun(piv,user,neighbors)\n",
    "    rat=0\n",
    "    if str(closer)=='None':\n",
    "        return round(piv[:,item].sum()/piv[:,item].count_nonzero(),3)\n",
    "    else:\n",
    "        for i in closer.index:\n",
    "            z=0\n",
    "            if piv[i,item]!=0:\n",
    "                rat+=piv[i,item]\n",
    "                z+=1\n",
    "        if z==0:\n",
    "            return round(piv[user,:].sum()/piv[user,:].count_nonzero(),3)\n",
    "        else:\n",
    "            return round(rat/z ,3)"
   ]
  },
  {
   "cell_type": "code",
   "execution_count": null,
   "metadata": {
    "collapsed": true
   },
   "outputs": [],
   "source": [
    "def pred_rating_mean_user_based2(user,item,piv,closer):\n",
    "    rat=0\n",
    "    if closer==None:\n",
    "        return  round(piv[:,item].sum()/piv[:,item].count_nonzero(),3)\n",
    "    else:\n",
    "        for i in closer.index:\n",
    "            z=0\n",
    "            if piv[i,item]!=0:\n",
    "                rat+=piv[i,item]\n",
    "                z+=1\n",
    "        if z==0:\n",
    "            return round(piv[user,:].sum()/piv[user,:].count_nonzero(),3)\n",
    "        else:\n",
    "            return round(rat/z ,3)"
   ]
  },
  {
   "cell_type": "code",
   "execution_count": null,
   "metadata": {
    "collapsed": true
   },
   "outputs": [],
   "source": []
  },
  {
   "cell_type": "code",
   "execution_count": 15,
   "metadata": {
    "collapsed": false
   },
   "outputs": [
    {
     "data": {
      "text/plain": [
       "1.7609999999999999"
      ]
     },
     "execution_count": 15,
     "metadata": {},
     "output_type": "execute_result"
    }
   ],
   "source": [
    "pred_rating_mean_user_based(nm,331192,piv,1000)"
   ]
  },
  {
   "cell_type": "code",
   "execution_count": 24,
   "metadata": {
    "collapsed": false
   },
   "outputs": [
    {
     "name": "stdout",
     "output_type": "stream",
     "text": [
      "0 104433\n",
      "1 104434\n",
      "2 104435\n",
      "3 104436\n",
      "4 104436\n",
      "5 104437\n",
      "6 104438\n",
      "7 104439\n",
      "8 104440\n",
      "9 104441\n"
     ]
    }
   ],
   "source": [
    "for i,l in ratings.user_ID.iteritems(): \n",
    "    if i <10:\n",
    "        print(i,l)"
   ]
  },
  {
   "cell_type": "code",
   "execution_count": null,
   "metadata": {
    "collapsed": false
   },
   "outputs": [],
   "source": [
    "pred_rating_mean_user_based(100,100,piv,100)"
   ]
  },
  {
   "cell_type": "code",
   "execution_count": null,
   "metadata": {
    "collapsed": false
   },
   "outputs": [],
   "source": [
    "X,y=ratings[['User-ID','ISBN']],ratings['Book-Rating']"
   ]
  },
  {
   "cell_type": "code",
   "execution_count": null,
   "metadata": {
    "collapsed": false
   },
   "outputs": [],
   "source": [
    "from sklearn.model_selection import train_test_split"
   ]
  },
  {
   "cell_type": "code",
   "execution_count": null,
   "metadata": {
    "collapsed": false
   },
   "outputs": [],
   "source": [
    "x_tr , x_te, y_tr, y_te = train_test_split(X,y,test_size=0.2, random_state=0)"
   ]
  },
  {
   "cell_type": "code",
   "execution_count": null,
   "metadata": {
    "collapsed": false
   },
   "outputs": [],
   "source": [
    "def create_pivot_UB(X,y,Nu,Nb):\n",
    "    #Create two user-item matrices\n",
    "    #n_users = X['User_Lab'].unique().shape[0]\n",
    "    #n_items = X['Book_Lab'].unique().shape[0]\n",
    "    #print('us',n_users,'it',n_items)\n",
    "    rat=pd.concat([X,y],axis=1)\n",
    "    pivot =sparse.lil_matrix((Nu, Nb))\n",
    "    for line in rat.itertuples():\n",
    "        pivot[line[3], line[4]] = line[5]+1e-5\n",
    "    return pivot"
   ]
  },
  {
   "cell_type": "code",
   "execution_count": null,
   "metadata": {
    "collapsed": false
   },
   "outputs": [],
   "source": [
    "piv= create_pivot_UB(x_tr,y_tr,n_user,n_item)"
   ]
  },
  {
   "cell_type": "code",
   "execution_count": null,
   "metadata": {
    "collapsed": false
   },
   "outputs": [],
   "source": [
    "x_tr['user'], x_tr['book']=(map(le.fit_transform, [x_tr['User-ID'],x_tr['ISBN']]))"
   ]
  },
  {
   "cell_type": "code",
   "execution_count": null,
   "metadata": {
    "collapsed": false
   },
   "outputs": [],
   "source": [
    "y_tr[1]"
   ]
  },
  {
   "cell_type": "code",
   "execution_count": null,
   "metadata": {
    "collapsed": false
   },
   "outputs": [],
   "source": [
    "x_tr.iloc[0,0]"
   ]
  },
  {
   "cell_type": "code",
   "execution_count": null,
   "metadata": {
    "collapsed": false
   },
   "outputs": [],
   "source": [
    "len(y_tr)"
   ]
  },
  {
   "cell_type": "code",
   "execution_count": null,
   "metadata": {
    "collapsed": false
   },
   "outputs": [],
   "source": [
    "x_tr.shape"
   ]
  },
  {
   "cell_type": "code",
   "execution_count": 16,
   "metadata": {
    "collapsed": false
   },
   "outputs": [
    {
     "data": {
      "text/plain": [
       "True"
      ]
     },
     "execution_count": 16,
     "metadata": {},
     "output_type": "execute_result"
    }
   ],
   "source": [
    "clos==None"
   ]
  },
  {
   "cell_type": "code",
   "execution_count": 18,
   "metadata": {
    "collapsed": false
   },
   "outputs": [
    {
     "name": "stdout",
     "output_type": "stream",
     "text": [
      "ook\n"
     ]
    }
   ],
   "source": [
    "if clos==None:print('ook')"
   ]
  },
  {
   "cell_type": "code",
   "execution_count": 25,
   "metadata": {
    "collapsed": true
   },
   "outputs": [],
   "source": [
    "from sklearn.metrics.pairwise import cosine_similarity"
   ]
  },
  {
   "cell_type": "code",
   "execution_count": 66,
   "metadata": {
    "collapsed": false
   },
   "outputs": [
    {
     "data": {
      "text/plain": [
       "28609     1.0\n",
       "332607    1.0\n",
       "289648    1.0\n",
       "333778    1.0\n",
       "332632    1.0\n",
       "20594     1.0\n",
       "332627    1.0\n",
       "332626    1.0\n",
       "332624    1.0\n",
       "332623    1.0\n",
       "dtype: float64"
      ]
     },
     "execution_count": 66,
     "metadata": {},
     "output_type": "execute_result"
    }
   ],
   "source": [
    "l=pd.Series(cos)\n",
    "l.sort_values(ascending=0)[:10]"
   ]
  },
  {
   "cell_type": "code",
   "execution_count": 62,
   "metadata": {
    "collapsed": false
   },
   "outputs": [
    {
     "data": {
      "text/plain": [
       "(340556,)"
      ]
     },
     "execution_count": 62,
     "metadata": {},
     "output_type": "execute_result"
    }
   ],
   "source": [
    "cos.shape"
   ]
  },
  {
   "cell_type": "code",
   "execution_count": 56,
   "metadata": {
    "collapsed": false
   },
   "outputs": [
    {
     "data": {
      "text/plain": [
       "(105283, 340556)"
      ]
     },
     "execution_count": 56,
     "metadata": {},
     "output_type": "execute_result"
    }
   ],
   "source": [
    "piv.shape"
   ]
  },
  {
   "cell_type": "code",
   "execution_count": 69,
   "metadata": {
    "collapsed": true
   },
   "outputs": [],
   "source": [
    "def mean(elem, pivot):\n",
    "    res = pivot[:,elem].sum()/pivot[:,elem].count_nonzero()\n",
    "    return res"
   ]
  },
  {
   "cell_type": "code",
   "execution_count": 61,
   "metadata": {
    "collapsed": false
   },
   "outputs": [],
   "source": [
    "cos=cosine_similarity(piv[:,1].T,piv.T).flatten()"
   ]
  },
  {
   "cell_type": "code",
   "execution_count": 67,
   "metadata": {
    "collapsed": true
   },
   "outputs": [],
   "source": [
    "def take_item_similarity(item,piv, n):\n",
    "    cos=cosine_similarity(piv[:,item].T,piv.T).flatten()\n",
    "    l=pd.Series(cos).sort_values(ascending=0)[:n]\n",
    "    return l"
   ]
  },
  {
   "cell_type": "code",
   "execution_count": 71,
   "metadata": {
    "collapsed": true
   },
   "outputs": [],
   "source": [
    "def pred_item_based_cosine_deviation(user,item,piv,closer):\n",
    "        m = mean(item, piv)\n",
    "        somma=0\n",
    "        for it in closer.index:\n",
    "            somma+= closer[it]*(piv[user,it]-mean(it,piv))\n",
    "        z=somma/closer.sum()\n",
    "        if z!=z: z=0\n",
    "        return round(float(m+z),3)"
   ]
  },
  {
   "cell_type": "code",
   "execution_count": 75,
   "metadata": {
    "collapsed": true
   },
   "outputs": [],
   "source": [
    "s= take_item_similarity(10,piv,10)"
   ]
  },
  {
   "cell_type": "code",
   "execution_count": 76,
   "metadata": {
    "collapsed": false
   },
   "outputs": [
    {
     "data": {
      "text/plain": [
       "-3.25"
      ]
     },
     "execution_count": 76,
     "metadata": {},
     "output_type": "execute_result"
    }
   ],
   "source": [
    "pred_item_based_cosine_deviation(100,10,piv,s)"
   ]
  },
  {
   "cell_type": "code",
   "execution_count": 106,
   "metadata": {
    "collapsed": false
   },
   "outputs": [
    {
     "data": {
      "text/plain": [
       "1.428571428367347e-10"
      ]
     },
     "execution_count": 106,
     "metadata": {},
     "output_type": "execute_result"
    }
   ],
   "source": [
    "float(cosine_similarity(piv[:,3].T,piv[:,10].T))"
   ]
  },
  {
   "cell_type": "code",
   "execution_count": 111,
   "metadata": {
    "collapsed": true
   },
   "outputs": [],
   "source": [
    "def find_similar_item_rated(user,item,piv,n=10):\n",
    "    col = piv[user,:].nonzero()[1]\n",
    "    sim={}\n",
    "    for i in col:\n",
    "        sim[i]= float(cosine_similarity(piv[:,i].T,piv[:,item].T))\n",
    "    return [(i,sim[i]) for i in sorted(sim, key=sim.__getitem__, reverse=1)[:n]]"
   ]
  },
  {
   "cell_type": "code",
   "execution_count": 114,
   "metadata": {
    "collapsed": false
   },
   "outputs": [],
   "source": [
    "azz=find_similar_item_rated(100,100,piv)"
   ]
  },
  {
   "cell_type": "code",
   "execution_count": 90,
   "metadata": {
    "collapsed": false
   },
   "outputs": [],
   "source": [
    "s=sparse.lil_matrix((2,3))"
   ]
  },
  {
   "cell_type": "code",
   "execution_count": 81,
   "metadata": {
    "collapsed": false
   },
   "outputs": [
    {
     "data": {
      "text/plain": [
       "array([   231,  10495,  72058,  84148,  90587,  95565, 162072, 164429,\n",
       "       181274, 193150, 193515, 204595, 232598, 250730, 254023, 259485,\n",
       "       263545, 276735], dtype=int32)"
      ]
     },
     "execution_count": 81,
     "metadata": {},
     "output_type": "execute_result"
    }
   ],
   "source": [
    "piv[,:].nonzero()[1]"
   ]
  },
  {
   "cell_type": "code",
   "execution_count": 124,
   "metadata": {
    "collapsed": false
   },
   "outputs": [],
   "source": [
    "def find_rating_ITBMean(user,similar,piv):\n",
    "    so=0\n",
    "    c=0\n",
    "    for el in similar: \n",
    "        if round(el[1],2)!=0.00:\n",
    "            c+=1\n",
    "            so+= piv[user,el[0]]\n",
    "    if c==0:\n",
    "        return 0\n",
    "    else:\n",
    "        return round(so/c, 2)"
   ]
  },
  {
   "cell_type": "code",
   "execution_count": 125,
   "metadata": {
    "collapsed": false
   },
   "outputs": [
    {
     "data": {
      "text/plain": [
       "0"
      ]
     },
     "execution_count": 125,
     "metadata": {},
     "output_type": "execute_result"
    }
   ],
   "source": [
    "find_rating_ITBMean(100,azz,piv)"
   ]
  },
  {
   "cell_type": "code",
   "execution_count": 123,
   "metadata": {
    "collapsed": false
   },
   "outputs": [
    {
     "data": {
      "text/plain": [
       "0.0"
      ]
     },
     "execution_count": 123,
     "metadata": {},
     "output_type": "execute_result"
    }
   ],
   "source": [
    "np.mean([azz[l][1] for l in range(len(azz)) ])"
   ]
  },
  {
   "cell_type": "code",
   "execution_count": 95,
   "metadata": {
    "collapsed": false
   },
   "outputs": [
    {
     "data": {
      "text/plain": [
       "array([], dtype=int32)"
      ]
     },
     "execution_count": 95,
     "metadata": {},
     "output_type": "execute_result"
    }
   ],
   "source": [
    "s[1,:].nonzero()[1]"
   ]
  },
  {
   "cell_type": "code",
   "execution_count": 1,
   "metadata": {
    "collapsed": true
   },
   "outputs": [],
   "source": [
    "def tolgo_media(piv):\n",
    "    for i in range(piv.shape[0]):\n",
    "        for el in piv[i,:].nonzero()[1]:\n",
    "            piv[i,el] -= mean(i,piv)\n",
    "    return piv"
   ]
  },
  {
   "cell_type": "code",
   "execution_count": 12,
   "metadata": {
    "collapsed": false
   },
   "outputs": [
    {
     "data": {
      "text/plain": [
       "array([56363], dtype=int32)"
      ]
     },
     "execution_count": 12,
     "metadata": {},
     "output_type": "execute_result"
    }
   ],
   "source": [
    "piv[1,:].nonzero()[1]"
   ]
  },
  {
   "cell_type": "code",
   "execution_count": 30,
   "metadata": {
    "collapsed": false
   },
   "outputs": [
    {
     "data": {
      "text/plain": [
       "(array([0], dtype=int32), array([23524], dtype=int32))"
      ]
     },
     "execution_count": 30,
     "metadata": {},
     "output_type": "execute_result"
    }
   ],
   "source": [
    "piv[78,:].nonzero()"
   ]
  },
  {
   "cell_type": "code",
   "execution_count": 31,
   "metadata": {
    "collapsed": false
   },
   "outputs": [
    {
     "data": {
      "text/plain": [
       "8.0000000010000001"
      ]
     },
     "execution_count": 31,
     "metadata": {},
     "output_type": "execute_result"
    }
   ],
   "source": [
    "piv[78,23524]"
   ]
  },
  {
   "cell_type": "code",
   "execution_count": 21,
   "metadata": {
    "collapsed": true
   },
   "outputs": [],
   "source": [
    "import Lil_lib as lb1"
   ]
  },
  {
   "cell_type": "code",
   "execution_count": 27,
   "metadata": {
    "collapsed": false
   },
   "outputs": [
    {
     "data": {
      "text/plain": [
       "8.0000000010000001"
      ]
     },
     "execution_count": 27,
     "metadata": {},
     "output_type": "execute_result"
    }
   ],
   "source": [
    "lb1.mean(78,piv)"
   ]
  },
  {
   "cell_type": "code",
   "execution_count": null,
   "metadata": {
    "collapsed": true
   },
   "outputs": [],
   "source": []
  }
 ],
 "metadata": {
  "anaconda-cloud": {},
  "kernelspec": {
   "display_name": "Python [Root]",
   "language": "python",
   "name": "Python [Root]"
  },
  "language_info": {
   "codemirror_mode": {
    "name": "ipython",
    "version": 3
   },
   "file_extension": ".py",
   "mimetype": "text/x-python",
   "name": "python",
   "nbconvert_exporter": "python",
   "pygments_lexer": "ipython3",
   "version": "3.5.2"
  }
 },
 "nbformat": 4,
 "nbformat_minor": 0
}
