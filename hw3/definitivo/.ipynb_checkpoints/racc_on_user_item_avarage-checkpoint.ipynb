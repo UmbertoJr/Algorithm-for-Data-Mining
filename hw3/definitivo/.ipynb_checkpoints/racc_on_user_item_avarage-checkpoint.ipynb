{
 "cells": [
  {
   "cell_type": "code",
   "execution_count": 1,
   "metadata": {
    "collapsed": true
   },
   "outputs": [],
   "source": [
    "import pandas as pd\n",
    "import numpy as np\n",
    "from scipy import sparse"
   ]
  },
  {
   "cell_type": "code",
   "execution_count": 2,
   "metadata": {
    "collapsed": true
   },
   "outputs": [],
   "source": [
    "ratings=pd.read_csv('BX-Book-Ratings.csv',sep=';', encoding='latin-1')\n",
    "books = pd.read_csv('BX-Books_mod.csv',sep=';', encoding='latin-1')\n",
    "users = pd.read_csv('BX-Users.csv', sep=';', encoding='latin-1')"
   ]
  },
  {
   "cell_type": "code",
   "execution_count": 3,
   "metadata": {
    "collapsed": false
   },
   "outputs": [],
   "source": [
    "n_user,n_item=(map(len, [ratings['User-ID'].unique(),ratings['ISBN'].unique()]))"
   ]
  },
  {
   "cell_type": "code",
   "execution_count": 4,
   "metadata": {
    "collapsed": true
   },
   "outputs": [],
   "source": [
    "from sklearn import preprocessing\n",
    "le = preprocessing.LabelEncoder()\n",
    "ratings['book_ID']=le.fit_transform(ratings.ISBN)\n",
    "ratings['user_ID']=le.fit_transform(ratings['User-ID'])"
   ]
  },
  {
   "cell_type": "code",
   "execution_count": 5,
   "metadata": {
    "collapsed": false
   },
   "outputs": [
    {
     "data": {
      "text/plain": [
       "Index(['User-ID', 'ISBN', 'Book-Rating', 'book_ID', 'user_ID'], dtype='object')"
      ]
     },
     "execution_count": 5,
     "metadata": {},
     "output_type": "execute_result"
    }
   ],
   "source": [
    "ratings.columns"
   ]
  },
  {
   "cell_type": "code",
   "execution_count": 6,
   "metadata": {
    "collapsed": false
   },
   "outputs": [],
   "source": [
    "piv=sparse.lil_matrix((n_user,n_item))"
   ]
  },
  {
   "cell_type": "code",
   "execution_count": 7,
   "metadata": {
    "collapsed": false
   },
   "outputs": [],
   "source": [
    "for row in ratings.itertuples():\n",
    "    piv[row[5],row[4]]=row[3]+ 1e-9"
   ]
  },
  {
   "cell_type": "code",
   "execution_count": 8,
   "metadata": {
    "collapsed": false
   },
   "outputs": [],
   "source": [
    "def take_most_commun(piv,user,number):\n",
    "    dic={}\n",
    "    h = piv[user,:].nonzero()[1]\n",
    "    for i in range(piv.shape[0]):\n",
    "        z=0\n",
    "        dist=0\n",
    "        if i != user:\n",
    "            o=piv[i,:].nonzero()[1]\n",
    "            for col in np.intersect1d(h,o):\n",
    "                z+=1\n",
    "                dist+= abs(piv[user,col]-piv[i,col])\n",
    "            if z!=0:\n",
    "                dic[i]=[z,dist/z ,z**2/(dist+1)]\n",
    "    if len(dic)==0:\n",
    "        return None\n",
    "    data=pd.DataFrame.from_dict(dic, orient='index')\n",
    "    data.columns=['comune_columns','distance','my_index']\n",
    "    if data.shape[0]>number:\n",
    "        return data.sort_values(['comune_columns','distance'],axis=0, ascending=[0,1])[:number]\n",
    "    else:\n",
    "        return data.sort_values(['comune_columns','distance'],axis=0, ascending=[0,1])\n",
    "    '''if len(dic)>number:\n",
    "        return [(i,dic[i]) for i in sorted(dic, key=dic.__getitem__, reverse=1)[:number]]\n",
    "    else:\n",
    "        return [(i,dic[i]) for i in sorted(dic, key=dic.__getitem__, reverse=1)]'''"
   ]
  },
  {
   "cell_type": "code",
   "execution_count": 9,
   "metadata": {
    "collapsed": true
   },
   "outputs": [],
   "source": [
    "nm=53648"
   ]
  },
  {
   "cell_type": "code",
   "execution_count": 10,
   "metadata": {
    "collapsed": false
   },
   "outputs": [],
   "source": [
    "m=take_most_commun(piv,100,100)"
   ]
  },
  {
   "cell_type": "code",
   "execution_count": 20,
   "metadata": {
    "collapsed": false,
    "scrolled": true
   },
   "outputs": [
    {
     "data": {
      "text/plain": [
       "6.0"
      ]
     },
     "execution_count": 20,
     "metadata": {},
     "output_type": "execute_result"
    }
   ],
   "source": [
    "pred_rating_mean_user_based(100,100,piv,100)"
   ]
  },
  {
   "cell_type": "code",
   "execution_count": 19,
   "metadata": {
    "collapsed": false
   },
   "outputs": [],
   "source": [
    "def pred_rating_mean_user_based(user,item,piv,neighbors):\n",
    "    closer=take_most_commun(piv,user,neighbors)\n",
    "    rat=0\n",
    "    if str(closer)=='None':\n",
    "        return round(piv[:,item].sum()/piv[:,item].count_nonzero(),3)\n",
    "    else:\n",
    "        for i in closer.index:\n",
    "            z=0\n",
    "            if piv[i,item]!=0:\n",
    "                rat+=piv[i,item]\n",
    "                z+=1\n",
    "        if z==0:\n",
    "            return round(piv[user,:].sum()/piv[user,:].count_nonzero(),3)\n",
    "        else:\n",
    "            return round(rat/z ,3)"
   ]
  },
  {
   "cell_type": "code",
   "execution_count": null,
   "metadata": {
    "collapsed": true
   },
   "outputs": [],
   "source": [
    "def pred_rating_mean_user_based2(user,item,piv,closer):\n",
    "    rat=0\n",
    "    if closer==None:\n",
    "        return  round(piv[:,item].sum()/piv[:,item].count_nonzero(),3)\n",
    "    else:\n",
    "        for i in closer.index:\n",
    "            z=0\n",
    "            if piv[i,item]!=0:\n",
    "                rat+=piv[i,item]\n",
    "                z+=1\n",
    "        if z==0:\n",
    "            return round(piv[user,:].sum()/piv[user,:].count_nonzero(),3)\n",
    "        else:\n",
    "            return round(rat/z ,3)"
   ]
  },
  {
   "cell_type": "code",
   "execution_count": null,
   "metadata": {
    "collapsed": true
   },
   "outputs": [],
   "source": []
  },
  {
   "cell_type": "code",
   "execution_count": null,
   "metadata": {
    "collapsed": false
   },
   "outputs": [],
   "source": [
    "pred_rating_mean_user_based(nm,123459,piv,1000)"
   ]
  },
  {
   "cell_type": "code",
   "execution_count": 24,
   "metadata": {
    "collapsed": false
   },
   "outputs": [
    {
     "name": "stdout",
     "output_type": "stream",
     "text": [
      "0 104433\n",
      "1 104434\n",
      "2 104435\n",
      "3 104436\n",
      "4 104436\n",
      "5 104437\n",
      "6 104438\n",
      "7 104439\n",
      "8 104440\n",
      "9 104441\n"
     ]
    }
   ],
   "source": [
    "for i,l in ratings.user_ID.iteritems(): \n",
    "    if i <10:\n",
    "        print(i,l)"
   ]
  },
  {
   "cell_type": "code",
   "execution_count": null,
   "metadata": {
    "collapsed": false
   },
   "outputs": [],
   "source": [
    "pred_rating_mean_user_based(100,100,piv,100)"
   ]
  },
  {
   "cell_type": "code",
   "execution_count": null,
   "metadata": {
    "collapsed": false
   },
   "outputs": [],
   "source": [
    "X,y=ratings[['User-ID','ISBN']],ratings['Book-Rating']"
   ]
  },
  {
   "cell_type": "code",
   "execution_count": null,
   "metadata": {
    "collapsed": false
   },
   "outputs": [],
   "source": [
    "from sklearn.model_selection import train_test_split"
   ]
  },
  {
   "cell_type": "code",
   "execution_count": null,
   "metadata": {
    "collapsed": false
   },
   "outputs": [],
   "source": [
    "x_tr , x_te, y_tr, y_te = train_test_split(X,y,test_size=0.2, random_state=0)"
   ]
  },
  {
   "cell_type": "code",
   "execution_count": null,
   "metadata": {
    "collapsed": false
   },
   "outputs": [],
   "source": [
    "def create_pivot_UB(X,y,Nu,Nb):\n",
    "    #Create two user-item matrices\n",
    "    #n_users = X['User_Lab'].unique().shape[0]\n",
    "    #n_items = X['Book_Lab'].unique().shape[0]\n",
    "    #print('us',n_users,'it',n_items)\n",
    "    rat=pd.concat([X,y],axis=1)\n",
    "    pivot =sparse.lil_matrix((Nu, Nb))\n",
    "    for line in rat.itertuples():\n",
    "        pivot[line[3], line[4]] = line[5]+1e-5\n",
    "    return pivot"
   ]
  },
  {
   "cell_type": "code",
   "execution_count": null,
   "metadata": {
    "collapsed": false
   },
   "outputs": [],
   "source": [
    "piv= create_pivot_UB(x_tr,y_tr,n_user,n_item)"
   ]
  },
  {
   "cell_type": "code",
   "execution_count": null,
   "metadata": {
    "collapsed": false
   },
   "outputs": [],
   "source": [
    "x_tr['user'], x_tr['book']=(map(le.fit_transform, [x_tr['User-ID'],x_tr['ISBN']]))"
   ]
  },
  {
   "cell_type": "code",
   "execution_count": null,
   "metadata": {
    "collapsed": false
   },
   "outputs": [],
   "source": [
    "y_tr[1]"
   ]
  },
  {
   "cell_type": "code",
   "execution_count": null,
   "metadata": {
    "collapsed": false
   },
   "outputs": [],
   "source": [
    "x_tr.iloc[0,0]"
   ]
  },
  {
   "cell_type": "code",
   "execution_count": null,
   "metadata": {
    "collapsed": false
   },
   "outputs": [],
   "source": [
    "len(y_tr)"
   ]
  },
  {
   "cell_type": "code",
   "execution_count": null,
   "metadata": {
    "collapsed": false
   },
   "outputs": [],
   "source": [
    "x_tr.shape"
   ]
  },
  {
   "cell_type": "code",
   "execution_count": 16,
   "metadata": {
    "collapsed": false
   },
   "outputs": [
    {
     "data": {
      "text/plain": [
       "True"
      ]
     },
     "execution_count": 16,
     "metadata": {},
     "output_type": "execute_result"
    }
   ],
   "source": [
    "clos==None"
   ]
  },
  {
   "cell_type": "code",
   "execution_count": 18,
   "metadata": {
    "collapsed": false
   },
   "outputs": [
    {
     "name": "stdout",
     "output_type": "stream",
     "text": [
      "ook\n"
     ]
    }
   ],
   "source": [
    "if clos==None:print('ook')"
   ]
  },
  {
   "cell_type": "code",
   "execution_count": 25,
   "metadata": {
    "collapsed": true
   },
   "outputs": [],
   "source": [
    "from sklearn.metrics.pairwise import cosine_similarity"
   ]
  },
  {
   "cell_type": "code",
   "execution_count": 66,
   "metadata": {
    "collapsed": false
   },
   "outputs": [
    {
     "data": {
      "text/plain": [
       "28609     1.0\n",
       "332607    1.0\n",
       "289648    1.0\n",
       "333778    1.0\n",
       "332632    1.0\n",
       "20594     1.0\n",
       "332627    1.0\n",
       "332626    1.0\n",
       "332624    1.0\n",
       "332623    1.0\n",
       "dtype: float64"
      ]
     },
     "execution_count": 66,
     "metadata": {},
     "output_type": "execute_result"
    }
   ],
   "source": [
    "l=pd.Series(cos)\n",
    "l.sort_values(ascending=0)[:10]"
   ]
  },
  {
   "cell_type": "code",
   "execution_count": 62,
   "metadata": {
    "collapsed": false
   },
   "outputs": [
    {
     "data": {
      "text/plain": [
       "(340556,)"
      ]
     },
     "execution_count": 62,
     "metadata": {},
     "output_type": "execute_result"
    }
   ],
   "source": [
    "cos.shape"
   ]
  },
  {
   "cell_type": "code",
   "execution_count": 56,
   "metadata": {
    "collapsed": false
   },
   "outputs": [
    {
     "data": {
      "text/plain": [
       "(105283, 340556)"
      ]
     },
     "execution_count": 56,
     "metadata": {},
     "output_type": "execute_result"
    }
   ],
   "source": [
    "piv.shape"
   ]
  },
  {
   "cell_type": "code",
   "execution_count": 69,
   "metadata": {
    "collapsed": true
   },
   "outputs": [],
   "source": [
    "def mean(elem, pivot):\n",
    "    res = pivot[:,elem].sum()/pivot[:,elem].count_nonzero()\n",
    "    return res"
   ]
  },
  {
   "cell_type": "code",
   "execution_count": 61,
   "metadata": {
    "collapsed": false
   },
   "outputs": [],
   "source": [
    "cos=cosine_similarity(piv[:,1].T,piv.T).flatten()"
   ]
  },
  {
   "cell_type": "code",
   "execution_count": 67,
   "metadata": {
    "collapsed": true
   },
   "outputs": [],
   "source": [
    "def take_item_similarity(item,piv, n):\n",
    "    cos=cosine_similarity(piv[:,item].T,piv.T).flatten()\n",
    "    l=pd.Series(cos).sort_values(ascending=0)[:n]\n",
    "    return l"
   ]
  },
  {
   "cell_type": "code",
   "execution_count": 71,
   "metadata": {
    "collapsed": true
   },
   "outputs": [],
   "source": [
    "def pred_item_based_cosine_deviation(user,item,piv,closer):\n",
    "        m = mean(item, piv)\n",
    "        somma=0\n",
    "        for it in closer.index:\n",
    "            somma+= closer[it]*(piv[user,it]-mean(it,piv))\n",
    "        z=somma/closer.sum()\n",
    "        if z!=z: z=0\n",
    "        return round(float(m+z),3)"
   ]
  },
  {
   "cell_type": "code",
   "execution_count": 75,
   "metadata": {
    "collapsed": true
   },
   "outputs": [],
   "source": [
    "s= take_item_similarity(10,piv,10)"
   ]
  },
  {
   "cell_type": "code",
   "execution_count": 76,
   "metadata": {
    "collapsed": false
   },
   "outputs": [
    {
     "data": {
      "text/plain": [
       "-3.25"
      ]
     },
     "execution_count": 76,
     "metadata": {},
     "output_type": "execute_result"
    }
   ],
   "source": [
    "pred_item_based_cosine_deviation(100,10,piv,s)"
   ]
  },
  {
   "cell_type": "code",
   "execution_count": 106,
   "metadata": {
    "collapsed": false
   },
   "outputs": [
    {
     "data": {
      "text/plain": [
       "1.428571428367347e-10"
      ]
     },
     "execution_count": 106,
     "metadata": {},
     "output_type": "execute_result"
    }
   ],
   "source": [
    "float(cosine_similarity(piv[:,3].T,piv[:,10].T))"
   ]
  },
  {
   "cell_type": "code",
   "execution_count": 111,
   "metadata": {
    "collapsed": true
   },
   "outputs": [],
   "source": [
    "def find_similar_item_rated(user,item,piv,n=10):\n",
    "    col = piv[user,:].nonzero()[1]\n",
    "    sim={}\n",
    "    for i in col:\n",
    "        sim[i]= float(cosine_similarity(piv[:,i].T,piv[:,item].T))\n",
    "    return [(i,sim[i]) for i in sorted(sim, key=sim.__getitem__, reverse=1)[:n]]"
   ]
  },
  {
   "cell_type": "code",
   "execution_count": 114,
   "metadata": {
    "collapsed": false
   },
   "outputs": [],
   "source": [
    "azz=find_similar_item_rated(100,100,piv)"
   ]
  },
  {
   "cell_type": "code",
   "execution_count": 90,
   "metadata": {
    "collapsed": false
   },
   "outputs": [],
   "source": [
    "s=sparse.lil_matrix((2,3))"
   ]
  },
  {
   "cell_type": "code",
   "execution_count": 81,
   "metadata": {
    "collapsed": false
   },
   "outputs": [
    {
     "data": {
      "text/plain": [
       "array([   231,  10495,  72058,  84148,  90587,  95565, 162072, 164429,\n",
       "       181274, 193150, 193515, 204595, 232598, 250730, 254023, 259485,\n",
       "       263545, 276735], dtype=int32)"
      ]
     },
     "execution_count": 81,
     "metadata": {},
     "output_type": "execute_result"
    }
   ],
   "source": [
    "piv[,:].nonzero()[1]"
   ]
  },
  {
   "cell_type": "code",
   "execution_count": 124,
   "metadata": {
    "collapsed": false
   },
   "outputs": [],
   "source": [
    "def find_rating_ITBMean(user,similar,piv):\n",
    "    so=0\n",
    "    c=0\n",
    "    for el in similar: \n",
    "        if round(el[1],2)!=0.00:\n",
    "            c+=1\n",
    "            so+= piv[user,el[0]]\n",
    "    if c==0:\n",
    "        return 0\n",
    "    else:\n",
    "        return round(so/c, 2)"
   ]
  },
  {
   "cell_type": "code",
   "execution_count": 125,
   "metadata": {
    "collapsed": false
   },
   "outputs": [
    {
     "data": {
      "text/plain": [
       "0"
      ]
     },
     "execution_count": 125,
     "metadata": {},
     "output_type": "execute_result"
    }
   ],
   "source": [
    "find_rating_ITBMean(100,azz,piv)"
   ]
  },
  {
   "cell_type": "code",
   "execution_count": 123,
   "metadata": {
    "collapsed": false
   },
   "outputs": [
    {
     "data": {
      "text/plain": [
       "0.0"
      ]
     },
     "execution_count": 123,
     "metadata": {},
     "output_type": "execute_result"
    }
   ],
   "source": [
    "np.mean([azz[l][1] for l in range(len(azz)) ])"
   ]
  },
  {
   "cell_type": "code",
   "execution_count": 95,
   "metadata": {
    "collapsed": false
   },
   "outputs": [
    {
     "data": {
      "text/plain": [
       "array([], dtype=int32)"
      ]
     },
     "execution_count": 95,
     "metadata": {},
     "output_type": "execute_result"
    }
   ],
   "source": [
    "s[1,:].nonzero()[1]"
   ]
  },
  {
   "cell_type": "code",
   "execution_count": null,
   "metadata": {
    "collapsed": true
   },
   "outputs": [],
   "source": []
  },
  {
   "cell_type": "code",
   "execution_count": null,
   "metadata": {
    "collapsed": true
   },
   "outputs": [],
   "source": []
  },
  {
   "cell_type": "code",
   "execution_count": null,
   "metadata": {
    "collapsed": true
   },
   "outputs": [],
   "source": []
  }
 ],
 "metadata": {
  "anaconda-cloud": {},
  "kernelspec": {
   "display_name": "Python [Root]",
   "language": "python",
   "name": "Python [Root]"
  },
  "language_info": {
   "codemirror_mode": {
    "name": "ipython",
    "version": 3
   },
   "file_extension": ".py",
   "mimetype": "text/x-python",
   "name": "python",
   "nbconvert_exporter": "python",
   "pygments_lexer": "ipython3",
   "version": "3.5.2"
  }
 },
 "nbformat": 4,
 "nbformat_minor": 0
}
